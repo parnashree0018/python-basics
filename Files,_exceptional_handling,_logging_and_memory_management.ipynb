{
  "nbformat": 4,
  "nbformat_minor": 0,
  "metadata": {
    "colab": {
      "provenance": []
    },
    "kernelspec": {
      "name": "python3",
      "display_name": "Python 3"
    },
    "language_info": {
      "name": "python"
    }
  },
  "cells": [
    {
      "cell_type": "markdown",
      "source": [
        "#1. Difference between interpreted and compiled languages\n",
        "\n",
        "Interpreted languages execute code line by line (e.g., Python), making them slower but more flexible.\n",
        "\n",
        "Compiled languages convert the whole program into machine code before execution (e.g., C++), making them faster but less dynamic.\n",
        "\n",
        "#2. Exception handling in Python\n",
        "\n",
        "Exception handling lets you manage runtime errors gracefully using try, except, finally, and else.\n",
        "\n",
        "It prevents abrupt program crashes and allows custom error handling.\n",
        "\n",
        "#3. Purpose of the finally block\n",
        "\n",
        "The finally block always runs, regardless of whether an exception occurred.\n",
        "\n",
        "Commonly used for cleanup tasks like closing files or releasing resources.\n",
        "\n",
        "#4. Logging in Python\n",
        "\n",
        "Logging records program execution details, errors, and events.\n",
        "\n",
        "It is more flexible and professional than using print() for debugging.\n",
        "\n",
        "#5. Significance of the __del__ method\n",
        "\n",
        "__del__ is the destructor method in Python, called when an object is garbage-collected.\n",
        "\n",
        "Useful for releasing resources, but its execution timing is not guaranteed.\n",
        "\n",
        "#6. Difference between import and from ... import\n",
        "\n",
        "import module imports the entire module (you access with module.function).\n",
        "\n",
        "from module import function imports specific parts directly (you access with function).\n",
        "\n",
        "#7. Handling multiple exceptions\n",
        "\n",
        "You can catch multiple exceptions by using multiple except blocks or a tuple:\n",
        "\n",
        "    try:\n",
        "       ...\n",
        "    except (ValueError, TypeError) as e:\n",
        "      print(e)\n",
        "\n",
        "\n",
        "#8. Purpose of the with statement for files\n",
        "\n",
        "Ensures files are properly opened and closed automatically.\n",
        "\n",
        "Prevents resource leaks and makes code cleaner:\n",
        "\n",
        "with open(\"file.txt\") as f:\n",
        "    data = f.read()\n",
        "\n",
        "\n",
        "#9. Difference between multithreading and multiprocessing\n",
        "\n",
        "Multithreading uses multiple threads within one process (shared memory, lightweight).\n",
        "\n",
        "Multiprocessing uses multiple processes (separate memory, avoids GIL in Python).\n",
        "\n",
        "#10. Advantages of using logging\n",
        "\n",
        "Provides levels of severity (INFO, ERROR, etc.).\n",
        "\n",
        "Creates logs for debugging, monitoring, and auditing without cluttering output.\n",
        "\n",
        "#11. Memory management in Python\n",
        "\n",
        "Python uses private heap space managed by the interpreter.\n",
        "\n",
        "It employs garbage collection to reclaim unused memory automatically.\n",
        "\n",
        "#12. Basic steps in exception handling\n",
        "\n",
        "Place risky code inside a try block.\n",
        "\n",
        "Catch errors with except.\n",
        "\n",
        "Use else for code that runs if no error occurs.\n",
        "\n",
        "Use finally for cleanup.\n",
        "\n",
        "#13. Importance of memory management\n",
        "\n",
        "Prevents memory leaks and program crashes.\n",
        "\n",
        "Ensures efficient use of system resources.\n",
        "\n",
        "#14. Role of try and except\n",
        "\n",
        "try: encloses code that might raise errors.\n",
        "\n",
        "except: defines how to handle specific errors if they occur.\n",
        "\n",
        "#15. Python’s garbage collection system\n",
        "\n",
        "Uses reference counting and a cyclic garbage collector.\n",
        "\n",
        "Automatically deletes objects no longer referenced to free memory.\n",
        "\n",
        "#16. Purpose of else block in exception handling\n",
        "\n",
        "The else block runs only if no exception occurs in the try.\n",
        "\n",
        "Useful for code that should only execute when the try succeeds.\n",
        "\n",
        "#17. Common logging levels\n",
        "\n",
        "DEBUG, INFO, WARNING, ERROR, CRITICAL.\n",
        "\n",
        "They indicate severity and importance of log messages.\n",
        "\n",
        "#18. Difference between os.fork() and multiprocessing\n",
        "\n",
        "os.fork() directly creates a child process (Unix only, low-level).\n",
        "\n",
        "multiprocessing is a Python module that works cross-platform and provides higher-level APIs.\n",
        "\n",
        "#19. Importance of closing a file\n",
        "\n",
        "Frees system resources and ensures data is written properly.\n",
        "\n",
        "Prevents data corruption or file locking issues.\n",
        "\n",
        "#20. Difference between file.read() and file.readline()\n",
        "\n",
        "read(): reads the entire file (or specified bytes).\n",
        "\n",
        "readline(): reads one line at a time.\n",
        "\n",
        "#21. Logging module usage\n",
        "\n",
        "Provides a built-in way to create logs with different levels, formats, and handlers.\n",
        "\n",
        "Supports writing logs to files, console, or external systems.\n",
        "\n",
        "#22. os module in file handling\n",
        "\n",
        "Provides functions for interacting with the operating system.\n",
        "\n",
        "Used for tasks like file deletion, path operations, and directory management.\n",
        "\n",
        "#23. Challenges in memory management\n",
        "\n",
        "Circular references between objects.\n",
        "\n",
        "Managing memory for large datasets.\n",
        "\n",
        "Unpredictable timing of garbage collection.\n",
        "\n",
        "#24. Raising an exception manually\n",
        "\n",
        "Use the raise keyword:\n",
        "\n",
        "raise ValueError(\"Invalid input\")\n",
        "\n",
        "\n",
        "#25. Importance of multithreading in applications\n",
        "\n",
        "Improves responsiveness in I/O-bound tasks (e.g., web servers, GUIs).\n",
        "\n",
        "Allows tasks to run concurrently without waiting for others to finish."
      ],
      "metadata": {
        "id": "bgIWaiF0ZW08"
      }
    },
    {
      "cell_type": "code",
      "source": [
        "#1. Open a file for writing and write a string\n",
        "with open(\"output.txt\", \"w\") as f:\n",
        "    f.write(\"Hello, Python!\")\n"
      ],
      "metadata": {
        "id": "qc4Sb1bvaPj8"
      },
      "execution_count": 1,
      "outputs": []
    },
    {
      "cell_type": "code",
      "source": [
        "#2. Read a file and print each line\n",
        "with open(\"input.txt\", \"r\") as f:\n",
        "    for line in f:\n",
        "        print(line.strip())\n"
      ],
      "metadata": {
        "id": "DmUdYIUjaq4S"
      },
      "execution_count": 3,
      "outputs": []
    },
    {
      "cell_type": "code",
      "source": [
        "#3. Handle file not found while reading\n",
        "try:\n",
        "    with open(\"missing.txt\", \"r\") as f:\n",
        "        print(f.read())\n",
        "except FileNotFoundError:\n",
        "    print(\"File not found!\")"
      ],
      "metadata": {
        "colab": {
          "base_uri": "https://localhost:8080/"
        },
        "id": "z8CoffFYa3EQ",
        "outputId": "914723a1-6211-41a3-a2f5-fcc42405d20d"
      },
      "execution_count": 4,
      "outputs": [
        {
          "output_type": "stream",
          "name": "stdout",
          "text": [
            "File not found!\n"
          ]
        }
      ]
    },
    {
      "cell_type": "code",
      "source": [
        "#4. Copy content from one file to another\n",
        "with open(\"source.txt\", \"r\") as src, open(\"dest.txt\", \"w\") as dest:\n",
        "    dest.write(src.read())\n"
      ],
      "metadata": {
        "id": "wvcVDxdZbO5I"
      },
      "execution_count": 6,
      "outputs": []
    },
    {
      "cell_type": "code",
      "source": [
        "#5. Handle division by zero\n",
        "try:\n",
        "    result = 10 / 0\n",
        "except ZeroDivisionError:\n",
        "    print(\"Cannot divide by zero!\")"
      ],
      "metadata": {
        "colab": {
          "base_uri": "https://localhost:8080/"
        },
        "id": "xLFqf-t1bV-i",
        "outputId": "ab312554-994d-4101-84a6-91711728f855"
      },
      "execution_count": 7,
      "outputs": [
        {
          "output_type": "stream",
          "name": "stdout",
          "text": [
            "Cannot divide by zero!\n"
          ]
        }
      ]
    },
    {
      "cell_type": "code",
      "source": [
        "#6. Log division by zero error\n",
        "import logging\n",
        "\n",
        "logging.basicConfig(filename=\"errors.log\", level=logging.ERROR)\n",
        "\n",
        "try:\n",
        "    result = 10 / 0\n",
        "except ZeroDivisionError as e:\n",
        "    logging.error(\"Division by zero occurred: %s\", e)\n"
      ],
      "metadata": {
        "colab": {
          "base_uri": "https://localhost:8080/"
        },
        "id": "W8M2Uemzb6aa",
        "outputId": "68d15aa1-9cb5-406e-c931-d5879cdbf0f9"
      },
      "execution_count": 9,
      "outputs": [
        {
          "output_type": "stream",
          "name": "stderr",
          "text": [
            "ERROR:root:Division by zero occurred: division by zero\n"
          ]
        }
      ]
    },
    {
      "cell_type": "code",
      "source": [
        "#7. Log at INFO, ERROR, WARNING levels\n",
        "import logging\n",
        "\n",
        "logging.basicConfig(level=logging.DEBUG)\n",
        "\n",
        "logging.info(\"This is info\")\n",
        "logging.warning(\"This is a warning\")\n",
        "logging.error(\"This is an error\")\n"
      ],
      "metadata": {
        "colab": {
          "base_uri": "https://localhost:8080/"
        },
        "id": "2Jvt8XfYcDgW",
        "outputId": "efe6b4eb-2746-4ae6-94ef-08b913d0c7e6"
      },
      "execution_count": 10,
      "outputs": [
        {
          "output_type": "stream",
          "name": "stderr",
          "text": [
            "WARNING:root:This is a warning\n",
            "ERROR:root:This is an error\n"
          ]
        }
      ]
    },
    {
      "cell_type": "code",
      "source": [
        "#8. Handle file opening error\n",
        "try:\n",
        "    with open(\"file.txt\", \"r\") as f:\n",
        "        print(f.read())\n",
        "except IOError as e:\n",
        "    print(\"File error:\", e)\n"
      ],
      "metadata": {
        "colab": {
          "base_uri": "https://localhost:8080/"
        },
        "id": "H4Aqy82Qcdh4",
        "outputId": "e2758235-be02-4f73-ee7f-99ab78934947"
      },
      "execution_count": 11,
      "outputs": [
        {
          "output_type": "stream",
          "name": "stdout",
          "text": [
            "File error: [Errno 2] No such file or directory: 'file.txt'\n"
          ]
        }
      ]
    },
    {
      "cell_type": "code",
      "source": [
        "#9. Read file line by line into a list\n",
        "with open(\"source.txt\", \"r\") as f:\n",
        "    lines = f.readlines()\n",
        "print(lines)\n"
      ],
      "metadata": {
        "colab": {
          "base_uri": "https://localhost:8080/"
        },
        "id": "sGvR0WKvcjQg",
        "outputId": "f2c31844-a956-4594-f8f7-196af6ba5bfa"
      },
      "execution_count": 13,
      "outputs": [
        {
          "output_type": "stream",
          "name": "stdout",
          "text": [
            "[\"hi i'm Parna.\\n\"]\n"
          ]
        }
      ]
    },
    {
      "cell_type": "code",
      "source": [
        "#10. Append data to an existing file\n",
        "with open(\"source.txt\", \"a\") as f:\n",
        "    f.write(\"\\nAppended line\")\n"
      ],
      "metadata": {
        "id": "wHJcmtYJctvM"
      },
      "execution_count": 14,
      "outputs": []
    },
    {
      "cell_type": "code",
      "source": [
        "#11. Handle missing dictionary key\n",
        "data = {\"name\": \"Shree\"}\n",
        "try:\n",
        "    print(data[\"age\"])\n",
        "except KeyError:\n",
        "    print(\"Key not found!\")\n"
      ],
      "metadata": {
        "colab": {
          "base_uri": "https://localhost:8080/"
        },
        "id": "hoO27mzdc9hf",
        "outputId": "db5381f8-c941-435f-aeda-09c8451b6cb3"
      },
      "execution_count": 15,
      "outputs": [
        {
          "output_type": "stream",
          "name": "stdout",
          "text": [
            "Key not found!\n"
          ]
        }
      ]
    },
    {
      "cell_type": "code",
      "source": [
        "#12. Multiple except blocks\n",
        "try:\n",
        "    num = int(\"abc\")   # ValueError\n",
        "    result = 10 / 0    # ZeroDivisionError\n",
        "except ValueError:\n",
        "    print(\"Invalid number!\")\n",
        "except ZeroDivisionError:\n",
        "    print(\"Division by zero!\")\n"
      ],
      "metadata": {
        "colab": {
          "base_uri": "https://localhost:8080/"
        },
        "id": "NVBWct6vdKb0",
        "outputId": "c9e79aab-ef33-4c6e-e9a6-d04b49feaa4b"
      },
      "execution_count": 16,
      "outputs": [
        {
          "output_type": "stream",
          "name": "stdout",
          "text": [
            "Invalid number!\n"
          ]
        }
      ]
    },
    {
      "cell_type": "code",
      "source": [
        "#13. Check if file exists before reading\n",
        "import os\n",
        "\n",
        "if os.path.exists(\"check.txt\"):\n",
        "    with open(\"check.txt\", \"r\") as f:\n",
        "        print(f.read())\n",
        "else:\n",
        "    print(\"File does not exist\")\n"
      ],
      "metadata": {
        "colab": {
          "base_uri": "https://localhost:8080/"
        },
        "id": "uHt3432KdPgB",
        "outputId": "903294d6-e39c-4b1f-a44d-6bc989228e97"
      },
      "execution_count": 17,
      "outputs": [
        {
          "output_type": "stream",
          "name": "stdout",
          "text": [
            "File does not exist\n"
          ]
        }
      ]
    },
    {
      "cell_type": "code",
      "source": [
        "#14. Log both info and error messages\n",
        "import logging\n",
        "\n",
        "logging.basicConfig(filename=\"app.log\", level=logging.INFO)\n",
        "\n",
        "logging.info(\"Program started\")\n",
        "try:\n",
        "    x = 10 / 0\n",
        "except ZeroDivisionError:\n",
        "    logging.error(\"Division by zero error\")\n"
      ],
      "metadata": {
        "colab": {
          "base_uri": "https://localhost:8080/"
        },
        "id": "GVZLXO41dYMe",
        "outputId": "b11bc606-23c4-4adf-db58-a131314ee393"
      },
      "execution_count": 18,
      "outputs": [
        {
          "output_type": "stream",
          "name": "stderr",
          "text": [
            "ERROR:root:Division by zero error\n"
          ]
        }
      ]
    },
    {
      "cell_type": "code",
      "source": [
        "#15. Print file content, handle empty file\n",
        "with open(\"input.txt\", \"r\") as f:\n",
        "    content = f.read()\n",
        "    if content:\n",
        "        print(content)\n",
        "    else:\n",
        "        print(\"File is empty\")\n"
      ],
      "metadata": {
        "colab": {
          "base_uri": "https://localhost:8080/"
        },
        "id": "lfEL168DdhDK",
        "outputId": "f91b7cd2-2ca6-4ee4-e9f1-b17bf30e98d1"
      },
      "execution_count": 20,
      "outputs": [
        {
          "output_type": "stream",
          "name": "stdout",
          "text": [
            "File is empty\n"
          ]
        }
      ]
    },
    {
      "cell_type": "code",
      "source": [
        "#16. Memory profiling\n"
      ],
      "metadata": {
        "id": "lzVbrWkddlHO"
      },
      "execution_count": 22,
      "outputs": []
    },
    {
      "cell_type": "code",
      "source": [
        "#17. Write list of numbers to file (one per line)\n",
        "numbers = [1, 2, 3, 4, 5]\n",
        "with open(\"numbers.txt\", \"w\") as f:\n",
        "    for num in numbers:\n",
        "        f.write(str(num) + \"\\n\")\n"
      ],
      "metadata": {
        "id": "8Ll-wroMd2Zm"
      },
      "execution_count": 23,
      "outputs": []
    },
    {
      "cell_type": "code",
      "source": [
        "#18. Logging with file rotation after 1MB\n",
        "import logging\n",
        "from logging.handlers import RotatingFileHandler\n",
        "\n",
        "handler = RotatingFileHandler(\"app.log\", maxBytes=1_000_000, backupCount=3)\n",
        "logging.basicConfig(handlers=[handler], level=logging.INFO)\n",
        "\n",
        "logging.info(\"This is a test log entry\")\n"
      ],
      "metadata": {
        "id": "295b12bJeJrd"
      },
      "execution_count": 24,
      "outputs": []
    },
    {
      "cell_type": "code",
      "source": [
        "#19. Handle both IndexError and KeyError\n",
        "try:\n",
        "    lst = [1, 2]\n",
        "    print(lst[5])        # IndexError\n",
        "    d = {}\n",
        "    print(d[\"key\"])      # KeyError\n",
        "except IndexError:\n",
        "    print(\"Index out of range!\")\n",
        "except KeyError:\n",
        "    print(\"Key not found!\")\n"
      ],
      "metadata": {
        "colab": {
          "base_uri": "https://localhost:8080/"
        },
        "id": "X4USMObFeOuS",
        "outputId": "e5648ed7-78bf-42f3-f39b-6c2c4a87e2b9"
      },
      "execution_count": 25,
      "outputs": [
        {
          "output_type": "stream",
          "name": "stdout",
          "text": [
            "Index out of range!\n"
          ]
        }
      ]
    },
    {
      "cell_type": "code",
      "source": [
        "#20. Open and read file with context manager\n",
        "with open(\"source.txt\", \"r\") as f:\n",
        "    print(f.read())\n"
      ],
      "metadata": {
        "colab": {
          "base_uri": "https://localhost:8080/"
        },
        "id": "Ug7zWHrJeV1v",
        "outputId": "487ca2f7-093e-43ff-c509-e0dda0b24bbf"
      },
      "execution_count": 26,
      "outputs": [
        {
          "output_type": "stream",
          "name": "stdout",
          "text": [
            "hi i'm Parna.\n",
            "\n",
            "Appended line\n"
          ]
        }
      ]
    },
    {
      "cell_type": "code",
      "source": [
        "#21. Count occurrences of a specific word in a file\n",
        "word = \"Parna\"\n",
        "with open(\"source.txt\", \"r\") as f:\n",
        "    content = f.read()\n",
        "print(f\"'{word}' occurs {content.count(word)} times\")\n"
      ],
      "metadata": {
        "colab": {
          "base_uri": "https://localhost:8080/"
        },
        "id": "sKff2UO2eiWi",
        "outputId": "cb0dc561-7237-41af-f51b-50b433cf7ffc"
      },
      "execution_count": 29,
      "outputs": [
        {
          "output_type": "stream",
          "name": "stdout",
          "text": [
            "'Parna' occurs 1 times\n"
          ]
        }
      ]
    },
    {
      "cell_type": "code",
      "source": [
        "#22. Check if file is empty before reading\n",
        "import os\n",
        "\n",
        "if os.path.getsize(\"input.txt\") == 0:\n",
        "    print(\"File is empty\")\n",
        "else:\n",
        "    with open(\"input.txt\", \"r\") as f:\n",
        "        print(f.read())\n"
      ],
      "metadata": {
        "colab": {
          "base_uri": "https://localhost:8080/"
        },
        "id": "Gcn4Zb_AenxJ",
        "outputId": "0e3ce00c-d947-48f7-c691-5dca246bb239"
      },
      "execution_count": 30,
      "outputs": [
        {
          "output_type": "stream",
          "name": "stdout",
          "text": [
            "File is empty\n"
          ]
        }
      ]
    },
    {
      "cell_type": "code",
      "source": [
        "#23. Log error during file handling\n",
        "import logging\n",
        "\n",
        "logging.basicConfig(filename=\"file_errors.log\", level=logging.ERROR)\n",
        "\n",
        "try:\n",
        "    with open(\"nofile.txt\", \"r\") as f:\n",
        "        print(f.read())\n",
        "except Exception as e:\n",
        "    logging.error(\"File error: %s\", e)\n"
      ],
      "metadata": {
        "colab": {
          "base_uri": "https://localhost:8080/"
        },
        "id": "sAbp-4dge5n-",
        "outputId": "6364606a-f67f-4a18-9696-0067474e6d6e"
      },
      "execution_count": 31,
      "outputs": [
        {
          "output_type": "stream",
          "name": "stderr",
          "text": [
            "ERROR:root:File error: [Errno 2] No such file or directory: 'nofile.txt'\n"
          ]
        }
      ]
    },
    {
      "cell_type": "code",
      "source": [],
      "metadata": {
        "id": "DAsldSE4e-N0"
      },
      "execution_count": null,
      "outputs": []
    }
  ]
}