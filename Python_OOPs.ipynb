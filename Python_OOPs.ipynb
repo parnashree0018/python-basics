{
  "nbformat": 4,
  "nbformat_minor": 0,
  "metadata": {
    "colab": {
      "provenance": []
    },
    "kernelspec": {
      "name": "python3",
      "display_name": "Python 3"
    },
    "language_info": {
      "name": "python"
    }
  },
  "cells": [
    {
      "cell_type": "markdown",
      "source": [
        "#1. What is Object-Oriented Programming (OOP)\n",
        "   Object-Oriented Programming (OOP) in Python is a paradigm that structures code using classes and objects. It follows four key principles:\n",
        "\n",
        "Encapsulation – Hides data within objects.\n",
        "\n",
        "Inheritance – Allows a class to inherit from another.\n",
        "\n",
        "Polymorphism – Enables methods to take different forms.\n",
        "\n",
        "Abstraction – Hides complex implementation details.\n",
        "\n",
        "#2.What is a class in OOP?\n",
        " A class in OOP is a blueprint for creating objects. It defines attributes (variables) and methods (functions) that describe the behavior of the objects.\n",
        "\n",
        "    class Car:\n",
        "        def __init__(self, brand, model):\n",
        "          self.brand = brand  # Attribute\n",
        "          self.model = model  # Attribute\n",
        "\n",
        "        def display_info(self):  # Method\n",
        "           return f\"{self.brand} {self.model}\"\n",
        "\n",
        "    car1 = Car(\"Toyota\", \"Corolla\")  # Object creation\n",
        "    print(car1.display_info())  # Output: Toyota Corolla\n",
        "\n",
        "#3.What is an object in OOP?\n",
        "  An object in OOP is an instance of a class. It has attributes (data) and methods (functions) that define its behavior.\n",
        "       \n",
        "       class Car:\n",
        "          def __init__(self, brand, model):\n",
        "            self.brand = brand  # Attribute\n",
        "            self.model = model  # Attribute\n",
        "\n",
        "          def display_info(self):  # Method\n",
        "            return f\"{self.brand} {self.model}\"\n",
        "\n",
        "      car1 = Car(\"Toyota\", \"Corolla\")  # Object creation\n",
        "      print(car1.display_info())  # Output: Toyota Corolla\n",
        "Here, Car is a class, and car1 is an object of that class.\n",
        "\n",
        "#4.What is the difference between abstraction and encapsulation?\n",
        " Difference Between Abstraction and Encapsulation\n",
        "Abstraction hides complex implementation details and only shows essential features. It focuses on what an object does.\n",
        "Encapsulation hides data by restricting direct access and focuses on how data is protected.\n",
        "\n",
        "Abstraction (Using Abstract Class)\n",
        "\n",
        "    from abc import ABC, abstractmethod\n",
        "\n",
        "    class Vehicle(ABC):\n",
        "      @abstractmethod\n",
        "      def start(self):\n",
        "         pass\n",
        "\n",
        "    class Car(Vehicle):\n",
        "     def start(self):\n",
        "        return \"Car started\"\n",
        "\n",
        "    car = Car()\n",
        "    print(car.start())  # Output: Car started\n",
        "   Only the \"start\" method is exposed; internal details are hidden.\n",
        "\n",
        "Encapsulation (Restricting Data Access)\n",
        "\n",
        "    class BankAccount:\n",
        "      def __init__(self, balance):\n",
        "        self.__balance = balance  # Private attribute\n",
        "\n",
        "      def get_balance(self):\n",
        "        return self.__balance  # Controlled access\n",
        "\n",
        "    account = BankAccount(1000)\n",
        "    print(account.get_balance())  # Output: 1000\n",
        "    print(account.__balance)  # This will raise an AttributeError\n",
        " Direct access to __balance is restricted, ensuring data protection.\n",
        "\n",
        "#5.What are dunder methods in Python?\n",
        "\n",
        "Dunder Methods in Python\n",
        "Dunder (Double Underscore) methods, also known as magic methods, are special methods in Python that start and end with double underscores (__method__). They enable built-in behavior for objects, like initialization, string representation, and operator overloading.\n",
        "\n",
        "Common Dunder Methods\n",
        "__init__() – Constructor (initializes an object).\n",
        "\n",
        "__str__() – Returns a readable string representation.\n",
        "\n",
        "__repr__() – Returns an official string representation.\n",
        "\n",
        "__len__() – Defines behavior for len().\n",
        "\n",
        "__add__() – Enables + operator overloading.\n",
        "\n",
        "#6.Explain the concept of inheritance in OOP?\n",
        " Inheritance in OOP\n",
        "Inheritance is a key concept in Object-Oriented Programming (OOP) that allows a class (child class) to inherit properties and methods from another class (parent class). This promotes code reusability and hierarchical relationships.\n",
        "\n",
        "Types of Inheritance in Python:\n",
        "Single Inheritance – One child class inherits from one parent class.\n",
        "\n",
        "Multiple Inheritance – A child class inherits from multiple parent classes.\n",
        "\n",
        "Multilevel Inheritance – A child class inherits from another child class.\n",
        "\n",
        "Hierarchical Inheritance – Multiple child classes inherit from the same parent.\n",
        "\n",
        "Hybrid Inheritance – A combination of multiple inheritance types.\n",
        "\n",
        "#7.What is polymorphism in OOP?\n",
        "\n",
        "Polymorphism in OOP\n",
        "Polymorphism means \"many forms\" and allows objects of different classes to be treated as objects of a common superclass. It enables methods to have different behaviors based on the object calling them.\n",
        "\n",
        "Types of Polymorphism:\n",
        "Method Overriding – A child class redefines a method from its parent class.\n",
        "\n",
        "Method Overloading (Not directly supported in Python) – Achieved using default arguments or *args.\n",
        "\n",
        "Operator Overloading – Defining how operators (+, -, etc.) work for custom objects.\n",
        "\n",
        "Example of Method Overriding:\n",
        "\n",
        "    class Animal:\n",
        "      def speak(self):\n",
        "        return \"Animal makes a sound\"\n",
        "\n",
        "    class Dog(Animal):\n",
        "      def speak(self):\n",
        "        return \"Bark\"\n",
        "\n",
        "    class Cat(Animal):\n",
        "       def speak(self):\n",
        "         return \"Meow\"\n",
        "\n",
        "    #Polymorphism\n",
        "\n",
        "    animals = [Dog(), Cat()]\n",
        "    for animal in animals:\n",
        "       print(animal.speak())  \n",
        " Output: Bark\n",
        "        Meow\n",
        "Different classes (Dog, Cat) have the same method speak(), but behave differently.\n",
        "\n",
        "#8.How is encapsulation achieved in Python?\n",
        "\n",
        "Encapsulation in Python\n",
        "Encapsulation is achieved by restricting direct access to an object's data and allowing controlled access through methods. It is implemented using access modifiers:\n",
        "\n",
        "Public (name) – Accessible from anywhere.\n",
        "\n",
        "Protected (_name) – Should not be accessed directly (convention, not enforced).\n",
        "\n",
        "Private (__name) – Cannot be accessed directly from outside the class.\n",
        "\n",
        "#9.What is a constructor in Python?\n",
        "\n",
        "A constructor is a special method (__init__()) in Python that is automatically called when an object is created. It is used to initialize an object's attributes.\n",
        "\n",
        "\n",
        "    class Person:\n",
        "      def __init__(self, name, age):  # Constructor\n",
        "        self.name = name\n",
        "        self.age = age\n",
        "\n",
        "      def display(self):\n",
        "        return f\"{self.name} is {self.age} years old.\"\n",
        "\n",
        "    person1 = Person(\"Alice\", 25)  # Constructor is called automatically\n",
        "    print(person1.display())  # Output: Alice is 25 years old.\n",
        "Here, __init__() initializes name and age when a Person object is created.\n",
        "\n",
        "#10.What are class and static methods in Python?\n",
        "\n",
        "1.Class Method (@classmethod)\n",
        "\n",
        "*Belongs to the class, not an instance.\n",
        "\n",
        "*Uses cls as the first parameter to access class variables.\n",
        "\n",
        "*Can modify class-level attributes.\n",
        "2.Static Method (@staticmethod)\n",
        "\n",
        "*Independent of both instance and class.\n",
        "\n",
        "*Does not take self or cls as a parameter.\n",
        "\n",
        "*Used for utility functions related to the class.\n",
        "\n",
        "#11. What is method overloading in Python?\n",
        "\n",
        "Method Overloading in Python\n",
        "Method overloading allows a class to have multiple methods with the same name but different parameters.\n",
        "\n",
        "Python does not support true method overloading like Java or C++. However, it can be achieved using default arguments or *args and **kwargs.\n",
        "\n",
        "#12.What is method overriding in OOP?\n",
        "\n",
        "Method Overriding in OOP\n",
        "Method overriding allows a child class to provide a different implementation for a method that is already defined in its parent class.\n",
        "\n",
        " The overridden method in the child class must have the same name and same parameters as in the parent class.\n",
        "\n",
        " It is used to implement polymorphism, allowing different behavior for the same method in different classes.\n",
        "\n",
        " #13.What is a property decorator in Python?\n",
        "\n",
        "Property Decorator (@property) :\n",
        "\n",
        "The @property decorator is used to define getter, setter, and deleter methods for class attributes, allowing controlled access to private variables. It helps implement encapsulation by restricting direct modification.\n",
        "\n",
        "#14.Why is polymorphism important in OOP?\n",
        "\n",
        "Importance of Polymorphism in OOP\n",
        "Polymorphism is crucial in Object-Oriented Programming (OOP) because it allows the same interface to be used for different data types, enabling flexibility and scalability in code.\n",
        "\n",
        "Key Benefits:\n",
        "\n",
        "Code Reusability – The same method can work for different classes, reducing duplicate code.\n",
        "\n",
        "Extensibility – New classes can be added without modifying existing code.\n",
        "\n",
        "Improved Maintainability – Simplifies updates and debugging by using a common interface.\n",
        "\n",
        "Enhances Readability – Makes code more intuitive by using a uniform method name across different classes.\n",
        "\n",
        "#15.What is an abstract class in Python?\n",
        "\n",
        "Abstract Class in Python\n",
        "\n",
        "An abstract class in Python is a class that cannot be instantiated and serves as a blueprint for other classes. It is defined using the ABC (Abstract Base Class) module and must have at least one abstract method (a method that is declared but not implemented).\n",
        "\n",
        "Why Use Abstract Classes?\n",
        "\n",
        "Enforces a common structure in derived classes.\n",
        "Ensures method implementation in child classes.\n",
        "Supports polymorphism by allowing different implementations of abstract methods.\n",
        "Example of an Abstract Class:\n",
        "\n",
        "    from abc import ABC, abstractmethod\n",
        "\n",
        "    class Animal(ABC):  # Abstract class\n",
        "      @abstractmethod\n",
        "      def speak(self):\n",
        "        pass  # Abstract method (no implementation)\n",
        "\n",
        "    class Dog(Animal):\n",
        "      def speak(self):\n",
        "        return \"Bark\"\n",
        "\n",
        "    class Cat(Animal):\n",
        "      def speak(self):\n",
        "        return \"Meow\"\n",
        "\n",
        "     animal = Animal()  # This will raise an error (cannot instantiate abstract class)\n",
        "     dog = Dog()\n",
        "     cat = Cat()\n",
        "\n",
        "    print(dog.speak())  # Output: Bark\n",
        "    print(cat.speak())  # Output: Meow\n",
        "    \n",
        "   Here, Animal is an abstract class with an abstract method speak(). All subclasses (Dog, Cat) must implement speak(), ensuring consistency across different classes.\n",
        "\n",
        "#16.What are the advantages of OOP?\n",
        "\n",
        "Advantages of Object-Oriented Programming (OOP)\n",
        "\n",
        "Code Reusability – OOP allows the reuse of existing code through inheritance, reducing duplication.\n",
        "\n",
        "Encapsulation – Data is protected by hiding implementation details, improving security.\n",
        "\n",
        "Polymorphism – The same method can have different implementations, increasing flexibility and scalability.\n",
        "\n",
        "Modularity – Code is organized into independent objects, making it easier to manage and modify.\n",
        "\n",
        "Abstraction – Only essential details are exposed, hiding complex implementation from the user.\n",
        "\n",
        "Maintainability – Since OOP organizes code efficiently, it is easier to update, debug, and scale applications.\n",
        "\n",
        "Real-World Mapping – Objects in OOP represent real-world entities, making software design intuitive.\n",
        "\n",
        "#17.What is the difference between a class variable and an instance variable?\n",
        "\n",
        "\n",
        "Class Variable:\n",
        "\n",
        "Belongs to the class and is shared among all instances.\n",
        "\n",
        "Defined outside methods but inside the class.\n",
        "\n",
        "Modifying it affects all instances.\n",
        "\n",
        "Instance Variable:\n",
        "\n",
        "Belongs to a specific instance of the class.\n",
        "\n",
        "Defined inside the __init__ method using self.\n",
        "\n",
        "Modifying it affects only that instance.\n",
        "\n",
        "    class Car:\n",
        "     wheels = 4  # Class variable (shared by all instances)\n",
        "\n",
        "      def __init__(self, brand, color):\n",
        "        self.brand = brand  # Instance variable (unique per object)\n",
        "        self.color = color  # Instance variable (unique per object)\n",
        "\n",
        "    # Creating instances\n",
        "     car1 = Car(\"Toyota\", \"Red\")\n",
        "     car2 = Car(\"Honda\", \"Blue\")\n",
        "\n",
        "     print(car1.wheels)  # Output: 4\n",
        "     print(car2.wheels)  # Output: 4\n",
        "\n",
        "    # Changing instance variable (affects only car1)\n",
        "     car1.color = \"Black\"\n",
        "     print(car1.color)  # Output: Black\n",
        "     print(car2.color)  # Output: Blue\n",
        "\n",
        "    # Changing class variable (affects all instances)\n",
        "     Car.wheels = 6\n",
        "     print(car1.wheels)  # Output: 6\n",
        "     print(car2.wheels)  # Output: 6\n",
        "\n",
        " Class variables are shared across all instances, while instance variables are unique to each object.   \n",
        "\n",
        " #18.What is multiple inheritance in Python?\n",
        "\n",
        " Multiple Inheritance in Python\n",
        " Multiple inheritance allows a class to inherit from more than one parent class, combining attributes and methods from multiple sources.\n",
        "\n",
        "\n",
        "    class Parent1:\n",
        "     def method1(self):\n",
        "        return \"Method from Parent1\"\n",
        "\n",
        "    class Parent2:\n",
        "     def method2(self):\n",
        "        return \"Method from Parent2\"\n",
        "\n",
        "    class Child(Parent1, Parent2):  # Multiple Inheritance\n",
        "      def child_method(self):\n",
        "        return \"Method from Child\"\n",
        "\n",
        "    # Creating an instance\n",
        "     obj = Child()\n",
        "     print(obj.method1())  # Output: Method from Parent1\n",
        "     print(obj.method2())  # Output: Method from Parent2\n",
        "     print(obj.child_method())  # Output: Method from Child\n",
        "\n",
        "Multiple inheritance provides flexibility but should be used carefully to avoid conflicts and ambiguity.\n",
        "\n",
        "#19.Explain the purpose of ‘’__str__’ and ‘__repr__’ ‘ methods in Python?\n",
        "\n",
        "Purpose of __str__ and __repr__ Methods in Python\n",
        "Both __str__ and __repr__ are dunder (double underscore) methods used to define how an object is represented as a string.\n",
        "\n",
        "1. __str__() → User-Friendly String Representation\n",
        "Used when str(object) or print(object) is called.\n",
        "Should return a human-readable and informative string.\n",
        "\n",
        "2. __repr__() → Developer-Friendly String Representation\n",
        "Used when repr(object) is called or when inspecting objects in interactive mode.\n",
        "Should return a precise and unambiguous string (ideally a valid Python expression that recreates the object).\n",
        "\n",
        "#20.What is the significance of the ‘super()’ function in Python?\n",
        "\n",
        "Significance of super() in Python\n",
        "The super() function is used to call a method from the parent class inside a child class. It allows for code reuse and supports multiple inheritance by ensuring the correct method resolution order (MRO).\n",
        "\n",
        "Example: Using super() in Single Inheritance\n",
        "\n",
        "    class Parent:\n",
        "     def show(self):\n",
        "        return \"Message from Parent\"\n",
        "\n",
        "    class Child(Parent):\n",
        "     def show(self):\n",
        "        parent_message = super().show()  # Calling Parent's method\n",
        "        return parent_message + \" & Child\"\n",
        "        # Output: Message from Parent & Child\n",
        "\n",
        "#21.What is the significance of the __del__ method in Python?\n",
        "\n",
        "Significance of __del__ Method in Python\n",
        "\n",
        "The __del__ method is a destructor in Python, automatically called when an object is about to be destroyed (i.e., garbage collected). It is useful for cleanup operations, such as closing files, releasing resources, or logging object deletion.\n",
        "\n",
        "#22.What is the difference between @staticmethod and @classmethod in Python?\n",
        "\n",
        "Difference Between @staticmethod and @classmethod in Python\n",
        "Both @staticmethod and @classmethod are used to define methods that don’t operate on instance attributes, but they serve different purposes.\n",
        "\n",
        "1. @staticmethod (Independent Utility Method)\n",
        "\n",
        " Does not access the class (cls) or instance (self).\n",
        "\n",
        " Works like a regular function inside a class.\n",
        "\n",
        " Used for utility/helper functions related to the class but not dependent on instance or class variables.\n",
        "\n",
        " 2. @classmethod (Class-Level Method)\n",
        "\n",
        " Takes cls (class reference) as the first parameter.\n",
        "\n",
        " Can modify class variables but not instance-specific data.\n",
        "\n",
        " Used for alternative constructors or modifying class-level attributes.\n",
        "\n",
        "#23.How does polymorphism work in Python with inheritance?\n",
        "\n",
        " Polymorphism in Python with Inheritance\n",
        "\n",
        "Polymorphism allows different classes to use the same method name, enabling flexibility and code reusability. When combined with inheritance, subclasses can override parent class methods to provide different implementations while maintaining a common interface.\n",
        "    class Animal:\n",
        "     def speak(self):  # Parent method\n",
        "        return \"Animal makes a sound\"\n",
        "\n",
        "    class Dog(Animal):\n",
        "     def speak(self):  # Overriding method\n",
        "        return \"Bark\"\n",
        "\n",
        "    class Cat(Animal):\n",
        "     def speak(self):  # Overriding method\n",
        "        return \"Meow\"\n",
        "\n",
        "    # Polymorphism in action\n",
        "     animals = [Dog(), Cat()]\n",
        "\n",
        "     for animal in animals:\n",
        "     print(animal.speak())  \n",
        "     # Output:\n",
        "     # Bark\n",
        "     # Meow\n",
        "\n",
        "\n",
        "Here, both Dog and Cat override the speak() method from Animal, demonstrating polymorphism through inheritance.\n",
        "\n",
        "#24.What is method chaining in Python OOP?\n",
        "\n",
        "Method Chaining in Python OOP\n",
        "Method chaining allows calling multiple methods on the same object in a single line, improving code readability and conciseness. This is achieved by returning self from each method, allowing the next method to be called on the same object.\n",
        "\n",
        "#25.What is the purpose of the __call__ method in Python?\n",
        "\n",
        "Purpose of __call__ Method in Python\n",
        "The __call__ method allows an instance of a class to be called like a function. This makes objects callable, enabling more flexible and intuitive designs, such as function-like behavior for objects.\n",
        "\n",
        "\n",
        "\n"
      ],
      "metadata": {
        "id": "P_bTIvmsvPzR"
      }
    },
    {
      "cell_type": "code",
      "source": [
        "#1 Create a parent class Animal with a method speak() that prints a generic message. Create a child class Dog that overrides the speak() method to print \"Bark!\"\n",
        "\n",
        "class Animal:\n",
        "  def speak(self):\n",
        "    print(\"Animal makes a sound\")\n",
        "\n",
        "class Dog(Animal):\n",
        "  def speak(self):\n",
        "    print(\"Bark!\")\n",
        "\n",
        "dog = Dog()\n",
        "dog.speak()"
      ],
      "metadata": {
        "colab": {
          "base_uri": "https://localhost:8080/"
        },
        "id": "a_sI24mAO04Y",
        "outputId": "05e9a388-82a9-4a40-c905-26ababd83a38"
      },
      "execution_count": 2,
      "outputs": [
        {
          "output_type": "stream",
          "name": "stdout",
          "text": [
            "Bark!\n"
          ]
        }
      ]
    },
    {
      "cell_type": "code",
      "source": [
        "#2. Write a program to create an abstract class Shape with a method area(). Derive classes Circle and Rectangle from it and implement the area() method in both\n",
        "from abc import ABC, abstractmethod\n",
        "\n",
        "# Abstract class\n",
        "class Shape(ABC):\n",
        "    @abstractmethod\n",
        "    def area(self):\n",
        "        pass\n",
        "\n",
        "class Circle(Shape):\n",
        "  def __init__(self, radius):\n",
        "        self.radius = radius\n",
        "\n",
        "  def area(self):\n",
        "        return 3.14 * self.radius * self.radius\n",
        "\n",
        "class Rectangle(Shape):\n",
        "  def __init__(self, length, width):\n",
        "        self.length = length\n",
        "        self.width = width\n",
        "\n",
        "  def area(self):\n",
        "        return self.length * self.width\n",
        "\n",
        "circle = Circle(5)\n",
        "rectangle = Rectangle(4, 6)\n",
        "print(\"Circle area:\", circle.area())\n",
        "print(\"Rectangle area:\", rectangle.area())\n",
        ""
      ],
      "metadata": {
        "colab": {
          "base_uri": "https://localhost:8080/"
        },
        "id": "N2Yr71Y2QzZB",
        "outputId": "4e8ba641-86f6-4e4d-f08f-4d589d3a61d2"
      },
      "execution_count": 4,
      "outputs": [
        {
          "output_type": "stream",
          "name": "stdout",
          "text": [
            "Circle area: 78.5\n",
            "Rectangle area: 24\n"
          ]
        }
      ]
    },
    {
      "cell_type": "code",
      "source": [
        "#3. Implement a multi-level inheritance scenario where a class Vehicle has an attribute type. Derive a class Car and further derive a class ElectricCar that adds a battery attribute.\n",
        "class Vehicle:\n",
        "  def __init__(self, type):\n",
        "    self.type = type\n",
        "\n",
        "class Car(Vehicle):\n",
        "  def __init__(self, type, brand):\n",
        "    super().__init__(type)\n",
        "    self.brand = brand\n",
        "class ElectricCar(Car):\n",
        "  def __init__(self,type,brand,battery):\n",
        "    super().__init__(type,brand)\n",
        "\n",
        "    self.battery = battery\n",
        "\n",
        "electric_car = ElectricCar(\"Electric Car\", \"Tesla\",\"75 kWh\")\n",
        "print(electric_car.type)\n",
        "print(electric_car.battery)\n"
      ],
      "metadata": {
        "colab": {
          "base_uri": "https://localhost:8080/"
        },
        "id": "QrGR7Rh1Q5QY",
        "outputId": "17778177-c7fc-4f7b-ba00-ff5a962e1b23"
      },
      "execution_count": 10,
      "outputs": [
        {
          "output_type": "stream",
          "name": "stdout",
          "text": [
            "Electric Car\n",
            "75 kWh\n"
          ]
        }
      ]
    },
    {
      "cell_type": "code",
      "source": [
        "#4. Demonstrate polymorphism by creating a base class Bird with a method fly(). Create two derived classes Sparrow and Penguin that override the fly() method.\n",
        "class Bird:\n",
        "  def fly(self):\n",
        "    print(\"Bird flies\")\n",
        "\n",
        "class Sparrow(Bird):\n",
        "  def fly(self):\n",
        "    print(\"Sparrow flies\")\n",
        "\n",
        "class Penguin(Bird):\n",
        "  def fly(self):\n",
        "    print(\"Penguin cannot fly\")\n",
        "\n",
        "sparrow = Sparrow()\n",
        "penguin = Penguin()\n",
        "\n",
        "sparrow.fly()\n",
        "penguin.fly()\n",
        "\n"
      ],
      "metadata": {
        "colab": {
          "base_uri": "https://localhost:8080/"
        },
        "id": "0daz3Ff5VyBL",
        "outputId": "550e13e9-ac51-4c4f-efc4-9859593b08c1"
      },
      "execution_count": 14,
      "outputs": [
        {
          "output_type": "stream",
          "name": "stdout",
          "text": [
            "Sparrow flies\n",
            "Penguin cannot fly\n"
          ]
        }
      ]
    },
    {
      "cell_type": "code",
      "source": [
        "#5. Write a program to demonstrate encapsulation by creating a class BankAccount with private attributes balance and methods to deposit, withdraw, and check balance.\n",
        "\n",
        "class BankAccount:\n",
        "  def __init__(self, balance):\n",
        "    self.__balance = balance  # Private attribute\n",
        "\n",
        "  def deposit(self, amount):\n",
        "    self.__balance += amount\n",
        "    return self.__balance\n",
        "\n",
        "  def withdraw(self,amount):\n",
        "    self.__balance-=amount\n",
        "    return self.__balance\n",
        "\n",
        "  def check_balance(self):\n",
        "    return self.__balance\n",
        "\n",
        "ParnaBank=BankAccount(50000)\n",
        "print(ParnaBank.check_balance())\n",
        "print(ParnaBank.deposit(1000))\n",
        "print(ParnaBank.withdraw(500))\n",
        "print(ParnaBank.check_balance())\n"
      ],
      "metadata": {
        "colab": {
          "base_uri": "https://localhost:8080/"
        },
        "id": "GabB0xWjXpOU",
        "outputId": "a8a35de6-0652-4d77-cbea-63fd05e26e73"
      },
      "execution_count": 19,
      "outputs": [
        {
          "output_type": "stream",
          "name": "stdout",
          "text": [
            "50000\n",
            "51000\n",
            "50500\n",
            "50500\n"
          ]
        }
      ]
    },
    {
      "cell_type": "code",
      "source": [
        "#6. Demonstrate runtime polymorphism using a method play() in a base class Instrument. Derive classes Guitar and Piano that implement their own version of play().\n",
        "class Instrument:\n",
        "    def play(self):\n",
        "        print(\"Playing an instrument\")\n",
        "\n",
        "class Guitar(Instrument):\n",
        "    def play(self):\n",
        "        print(\"Playing a guitar\")\n",
        "\n",
        "class Piano(Instrument):\n",
        "    def play(self):\n",
        "        print(\"Playing a piano\")\n",
        "\n",
        "# Creating objects\n",
        "guitar = Guitar()\n",
        "piano = Piano()\n",
        "\n",
        "# Demonstrating runtime polymorphism\n",
        "guitar.play()  # Output: Playing a guitar\n",
        "piano.play()   # Output: Playing a piano\n",
        ""
      ],
      "metadata": {
        "colab": {
          "base_uri": "https://localhost:8080/"
        },
        "id": "GNaEW-tJYQXt",
        "outputId": "a9ce1727-39e2-40a4-fee6-6b074889649f"
      },
      "execution_count": 20,
      "outputs": [
        {
          "output_type": "stream",
          "name": "stdout",
          "text": [
            "Playing a guitar\n",
            "Playing a piano\n"
          ]
        }
      ]
    },
    {
      "cell_type": "code",
      "source": [
        "# 7. Create a class MathOperations with a class method add_numbers() to add two numbers and a static method subtract_numbers() to subtract two numbers\n",
        "class MathOperations():\n",
        "  @classmethod\n",
        "  def add_numbers(self,num1,num2):\n",
        "    return num1+num2\n",
        "  @staticmethod\n",
        "  def subtract_numbers(num1,num2):\n",
        "    return num1-num2\n",
        "\n",
        "math_operations = MathOperations()\n",
        "print(math_operations.add_numbers(5,3))\n",
        "print(math_operations.subtract_numbers(5,3))"
      ],
      "metadata": {
        "colab": {
          "base_uri": "https://localhost:8080/"
        },
        "id": "svYc0n7W5jiC",
        "outputId": "a5a31ef1-ecfa-4c41-93e9-869a8b57b9db"
      },
      "execution_count": 21,
      "outputs": [
        {
          "output_type": "stream",
          "name": "stdout",
          "text": [
            "8\n",
            "2\n"
          ]
        }
      ]
    },
    {
      "cell_type": "code",
      "source": [
        "#8. Implement a class Person with a class method to count the total number of persons created\n",
        "\n",
        "class Person:\n",
        "    total_persons = 0\n",
        "\n",
        "    def __init__(self, name):\n",
        "        self.name = name\n",
        "        Person.total_persons += 1\n",
        "\n",
        "    @classmethod\n",
        "    def get_total_persons(cls):\n",
        "        return cls.total_persons\n",
        "Persons=Person(\"parna\")\n",
        "Persons=Person(\"Samir\")\n",
        "Persons.get_total_persons()"
      ],
      "metadata": {
        "colab": {
          "base_uri": "https://localhost:8080/"
        },
        "id": "khd34hIp6VPI",
        "outputId": "916cafc4-52e8-4f9a-c1f7-89975e2ce1d0"
      },
      "execution_count": 26,
      "outputs": [
        {
          "output_type": "execute_result",
          "data": {
            "text/plain": [
              "2"
            ]
          },
          "metadata": {},
          "execution_count": 26
        }
      ]
    },
    {
      "cell_type": "code",
      "source": [
        "#9. Write a class Fraction with attributes numerator and denominator. Override the str method to display the fraction as \"numerator/denominator\"\n",
        "class Fraction:\n",
        "  def __init__(self,numerator,denominator):\n",
        "    self.numerator=numerator\n",
        "    self.denominator=denominator\n",
        "  def __str__(self):\n",
        "    return f\"{self.numerator}/{self.denominator}\"\n",
        "fraction=Fraction(5,3)\n",
        "print(fraction)"
      ],
      "metadata": {
        "colab": {
          "base_uri": "https://localhost:8080/"
        },
        "id": "46P88Qrb7iFz",
        "outputId": "800e112f-2e56-424e-d5f0-81e7cb893ad3"
      },
      "execution_count": 28,
      "outputs": [
        {
          "output_type": "stream",
          "name": "stdout",
          "text": [
            "5/3\n"
          ]
        }
      ]
    },
    {
      "cell_type": "code",
      "source": [
        "# 10. Demonstrate operator overloading by creating a class Vector and overriding the add method to add two vectors.\n",
        "class Vector:\n",
        "  def __init__(self,x,y):\n",
        "    self.x=x\n",
        "    self.y=y\n",
        "  def __add__(self,other):\n",
        "    return Vector(self.x+other.x,self.y+other.y)\n",
        "  def __str__(self):\n",
        "    return f\"{self.x},{self.y}\"\n",
        "\n",
        "V1=Vector(5,6)\n",
        "V2=Vector(7,4)\n",
        "result=V1+V2\n",
        "print(result)"
      ],
      "metadata": {
        "colab": {
          "base_uri": "https://localhost:8080/"
        },
        "id": "iU_xBOYz8-Wo",
        "outputId": "f245afe9-eca4-4562-8fd9-deba60658e81"
      },
      "execution_count": 39,
      "outputs": [
        {
          "output_type": "stream",
          "name": "stdout",
          "text": [
            "12,10\n"
          ]
        }
      ]
    },
    {
      "cell_type": "code",
      "source": [
        "# 11. Create a class Person with attributes name and age. Add a method greet() that prints \"Hello, my name is {name} and I am {age} years old.\n",
        "class Person:\n",
        "    def __init__(self,name,age):\n",
        "      self.name=name\n",
        "      self.age=age\n",
        "    def greet(self):\n",
        "      print(f\"Hello, my name is {self.name} and I am {self.age} years old.\")\n",
        "person=Person(\"Parna\",22)\n",
        "person.greet()"
      ],
      "metadata": {
        "colab": {
          "base_uri": "https://localhost:8080/"
        },
        "id": "RmA2uorCG1Hm",
        "outputId": "8d2644d2-c7ba-4c2c-87c8-f3fb9d1a3f91"
      },
      "execution_count": 42,
      "outputs": [
        {
          "output_type": "stream",
          "name": "stdout",
          "text": [
            "Hello, my name is Parna and I am 22 years old.\n"
          ]
        }
      ]
    },
    {
      "cell_type": "code",
      "source": [
        "#12. Implement a class Student with attributes name and grades. Create a method average_grade() to compute the average of the grades\n",
        "class Student:\n",
        "  def __init__(self,name,grades):\n",
        "    self.name=name\n",
        "    self.grades=grades\n",
        "  def average_grade(self):\n",
        "    return sum(self.grades)/len(self.grades)\n",
        "Student1=Student(\"Parna\",[89,96,95,97])\n",
        "Student1.average_grade()"
      ],
      "metadata": {
        "colab": {
          "base_uri": "https://localhost:8080/"
        },
        "id": "QCU-NYVzHNmr",
        "outputId": "9ea748e3-fcf9-4614-ce66-f93112b208e9"
      },
      "execution_count": 43,
      "outputs": [
        {
          "output_type": "execute_result",
          "data": {
            "text/plain": [
              "94.25"
            ]
          },
          "metadata": {},
          "execution_count": 43
        }
      ]
    },
    {
      "cell_type": "code",
      "source": [
        "#13. Create a class Rectangle with methods set_dimensions() to set the dimensions and area() to calculate the area.\n",
        "class Rectangle:\n",
        "  def set_dimensions(self,length,width):\n",
        "    self.length=length\n",
        "    self.width=width\n",
        "  def area(self):\n",
        "    length=self.length\n",
        "    width=self.width\n",
        "    return 'Area of Rectangle is ', self.length*self.width\n",
        "rec1=Rectangle()\n",
        "rec1.set_dimensions(10,12)\n",
        "rec1.area()\n"
      ],
      "metadata": {
        "colab": {
          "base_uri": "https://localhost:8080/"
        },
        "id": "ClHtzE7gHikg",
        "outputId": "aaec6342-a9cb-49a1-af04-f8208a4fc3d6"
      },
      "execution_count": 55,
      "outputs": [
        {
          "output_type": "execute_result",
          "data": {
            "text/plain": [
              "('Area of Rectangle is ', 120)"
            ]
          },
          "metadata": {},
          "execution_count": 55
        }
      ]
    },
    {
      "cell_type": "code",
      "source": [
        "#14. Create a class Employee with a method calculate_salary() that computes the salary based on hours worked and hourly rate. Create a derived class Manager that adds a bonus to the salary.\n",
        "class Employee:\n",
        "    def __init__(self, hours_worked, hourly_rate):\n",
        "        self.hours_worked = hours_worked\n",
        "        self.hourly_rate = hourly_rate\n",
        "    def calculate_salary(self):\n",
        "      return self.hours_worked*self.hourly_rate\n",
        "class Manager(Employee):\n",
        "    def __init__(self, hours_worked, hourly_rate, bonus):\n",
        "        super().__init__(hours_worked, hourly_rate)\n",
        "        self.bonus = bonus\n",
        "    def calculate_salary(self):\n",
        "      return self.hours_worked*self.hourly_rate + self.bonus\n",
        "\n",
        "# Creating an Employee object\n",
        "emp = Employee(40, 20)\n",
        "print(\"Employee Salary:\", emp.calculate_salary())\n",
        "\n",
        "# Creating a Manager object\n",
        "mgr = Manager(40, 20, 500)\n",
        "print(\"Manager Salary:\", mgr.calculate_salary())"
      ],
      "metadata": {
        "colab": {
          "base_uri": "https://localhost:8080/"
        },
        "id": "NhJaWouiObcz",
        "outputId": "730dd8e7-36e6-4dc5-f3bd-870217adb04c"
      },
      "execution_count": 58,
      "outputs": [
        {
          "output_type": "stream",
          "name": "stdout",
          "text": [
            "Employee Salary: 800\n",
            "Manager Salary: 1300\n"
          ]
        }
      ]
    },
    {
      "cell_type": "code",
      "source": [
        "#15. Create a class Product with attributes name, price, and quantity. Implement a method total_price() that calculates the total price of the product.\n",
        "class Product:\n",
        "  def __init__(self,name,price,quantity):\n",
        "    self.name=name\n",
        "    self.price=price\n",
        "    self.quantity=quantity\n",
        "  def total_price(self):\n",
        "    return self.name,self.price*self.quantity\n",
        "product1=Product(\"Laptop\",1000,2)\n",
        "print(product1.total_price())\n"
      ],
      "metadata": {
        "colab": {
          "base_uri": "https://localhost:8080/"
        },
        "id": "wtG2vRi5SUja",
        "outputId": "7afe4438-7ecc-4b47-fe47-fcfb23f3c00f"
      },
      "execution_count": 64,
      "outputs": [
        {
          "output_type": "stream",
          "name": "stdout",
          "text": [
            "('Laptop', 2000)\n"
          ]
        }
      ]
    },
    {
      "cell_type": "code",
      "source": [
        "#16. Create a class Animal with an abstract method sound(). Create two derived classes Cow and Sheep that implement the sound() method.\n",
        "from abc import ABC, abstractmethod\n",
        "\n",
        "class Animal(ABC):\n",
        "  @abstractmethod\n",
        "  def sound(self):\n",
        "    pass\n",
        "class Cow(Animal):\n",
        "  def sound(self):\n",
        "    print(\"cow says Moo\")\n",
        "class Sheep(Animal):\n",
        "  def sound(self):\n",
        "    print(\"Sheep says baa\")\n",
        "c1=Cow()\n",
        "c1.sound()"
      ],
      "metadata": {
        "colab": {
          "base_uri": "https://localhost:8080/"
        },
        "id": "oAgbUTstTtE0",
        "outputId": "9248ca24-d8f7-4175-8ca8-afb3a3e5368c"
      },
      "execution_count": 66,
      "outputs": [
        {
          "output_type": "stream",
          "name": "stdout",
          "text": [
            "cow says Moo\n"
          ]
        }
      ]
    },
    {
      "cell_type": "code",
      "source": [
        "# 17. Create a class Book with attributes title, author, and year_published. Add a method get_book_info() that returns a formatted string with the book's details\n",
        "class Book:\n",
        "  def __init__(self,title,author,year_published):\n",
        "    self.title=title\n",
        "    self.author=author\n",
        "    self.year_published=year_published\n",
        "  def get_book_info(self):\n",
        "    return f\"Title: {self.title}, Author: {self.author}, Year Published: {self.year_published}\"\n",
        "book1=Book(\"Harry Potter\",\"J.K Rowling\",2001)\n",
        "print(book1.get_book_info())\n"
      ],
      "metadata": {
        "colab": {
          "base_uri": "https://localhost:8080/"
        },
        "id": "tCLiMSXUVVmq",
        "outputId": "64a6b652-9f35-42f1-b6d2-a6d4d1f99a8d"
      },
      "execution_count": 68,
      "outputs": [
        {
          "output_type": "stream",
          "name": "stdout",
          "text": [
            "Title: Harry Potter, Author: J.K Rowling, Year Published: 2001\n"
          ]
        }
      ]
    },
    {
      "cell_type": "code",
      "source": [
        "#18. Create a class House with attributes address and price. Create a derived class Mansion that adds an attribute number_of_rooms\n",
        "class House:\n",
        "  def __init__(self,address,price):\n",
        "    self.address=address\n",
        "    self.price=price\n",
        "class Mansion(House):\n",
        "  def __init__(self,address,price,number_of_rooms):\n",
        "    super().__init__(address,price)\n",
        "    self.number_of_rooms=number_of_rooms\n",
        "M1=Mansion(\"Kolkata\",500000,5)\n",
        "print(M1.address)\n",
        "print(M1.price)\n",
        "print(M1.number_of_rooms)"
      ],
      "metadata": {
        "colab": {
          "base_uri": "https://localhost:8080/"
        },
        "id": "zbZNqKqRVnpS",
        "outputId": "9cd66778-d36b-41d5-ad3c-a8430107c934"
      },
      "execution_count": 73,
      "outputs": [
        {
          "output_type": "stream",
          "name": "stdout",
          "text": [
            "Kolkata\n",
            "500000\n",
            "5\n"
          ]
        }
      ]
    }
  ]
}