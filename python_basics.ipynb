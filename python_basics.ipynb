{
  "nbformat": 4,
  "nbformat_minor": 0,
  "metadata": {
    "colab": {
      "provenance": []
    },
    "kernelspec": {
      "name": "python3",
      "display_name": "Python 3"
    },
    "language_info": {
      "name": "python"
    }
  },
  "cells": [
    {
      "cell_type": "code",
      "execution_count": null,
      "metadata": {
        "id": "nlh2MQvfHKwu"
      },
      "outputs": [],
      "source": []
    },
    {
      "cell_type": "markdown",
      "source": [],
      "metadata": {
        "id": "AB7ouWeSH7Ny"
      }
    },
    {
      "cell_type": "markdown",
      "source": [
        "# What is Python, and why is it popular?\n",
        "Python is a high-level programming language known for its simplicity, readability, and versatility.\n",
        "\n",
        "Why is Python Popular?\n",
        "1.Easy to Learn & Read\n",
        "2.Versatile & Multi-Purpose\n",
        "3.Large Community Support\n",
        "4.Rich Libraries & Frameworks\n",
        "5.Cross-Platform\n",
        "6.Automation & Scripting\n",
        "7.Strong Demand in Data Science & AI\n"
      ],
      "metadata": {
        "id": "VidrFbRnH-Kt"
      }
    },
    {
      "cell_type": "markdown",
      "source": [
        "What is an interpreter in Python?\n",
        "\n",
        "An interpreter in Python is a program that executes Python code line by line, converting it into machine-readable instructions. Unlike compiled languages (like C or Java), which require a separate compilation step, Python code is directly executed by the interpreter."
      ],
      "metadata": {
        "id": "X9-ksPt3Is5O"
      }
    },
    {
      "cell_type": "markdown",
      "source": [
        " What are pre-defined keywords in Python?\n",
        " In Python, keywords are reserved words that have a special meaning and cannot be used as variable names, function names, or identifiers. These keywords define the syntax and structure of the Python language.\n",
        " Python has 35+ reserved keywords. for example :if, elif, else"
      ],
      "metadata": {
        "id": "nm_KiQdPI1zQ"
      }
    },
    {
      "cell_type": "markdown",
      "source": [
        "Can keywords be used as variable names?\n",
        "No,keywords have a special meaning and cannot be used as variable names"
      ],
      "metadata": {
        "id": "yT0_vibaJufb"
      }
    },
    {
      "cell_type": "markdown",
      "source": [
        "What is mutability in Python?\n",
        "\n",
        "In Python, mutability refers to whether an object’s value can be changed after creation. Objects in Python are classified into two categories:\n",
        "\n",
        "Mutable Objects → Can be modified after creation\n",
        "Immutable Objects → Cannot be modified after creation"
      ],
      "metadata": {
        "id": "J_dwl5BLKBer"
      }
    },
    {
      "cell_type": "markdown",
      "source": [
        "Why are lists mutable, but tuples are immutable?\n",
        " Lists Are Mutable\n",
        "Lists are designed for dynamic, changeable collections of data.\n",
        "They allow insertion, deletion, and modification of elements.\n",
        "Python allocates extra memory for lists to accommodate future changes.\n",
        "\n",
        "Tuples Are Immutable\n",
        "Tuples are designed for fixed, unchangeable collections of data.\n",
        "They help Python optimize memory usage and improve performance.\n",
        "Since tuples are immutable, they are hashable and can be used as dictionary keys.\n"
      ],
      "metadata": {
        "id": "Es1l_zTwKRwL"
      }
    },
    {
      "cell_type": "markdown",
      "source": [
        "What is the difference between “==” and “is” operators in Python?\n",
        "\n",
        "Difference Between == and is Operators in Python\n",
        "In Python, == and is are both comparison operators, but they work differently:\n",
        "\n",
        "== (Equality Operator) → Checks values\n",
        "is (Identity Operator) → Checks memory addresses (object identity)"
      ],
      "metadata": {
        "id": "lRUKs2ubLFuy"
      }
    },
    {
      "cell_type": "markdown",
      "source": [
        "What are logical operators in Python?\n",
        "\n",
        "Logical operators are used to perform Boolean logic operations on values, typically in conditional statements (if, while, etc.).\n",
        "\n"
      ],
      "metadata": {
        "id": "vH8KGrnMLLls"
      }
    },
    {
      "cell_type": "markdown",
      "source": [
        "What is type casting in Python?\n",
        "Type casting (also known as type conversion) is the process of converting a variable from one data type to another. Python supports two types of type casting:\n",
        "\n",
        "Explicit Type Casting → Done manually using built-in functions(for example: int(x)\tConverts x to an integer)\n",
        "Implicit Type Casting → Done automatically by Python"
      ],
      "metadata": {
        "id": "Vw-G0S7rLSU6"
      }
    },
    {
      "cell_type": "markdown",
      "source": [
        "What is the difference between implicit and explicit type casting?\n",
        "Implicit Type Casting (Automatic)\n",
        "Happens automatically when Python promotes a smaller data type to a larger one.\n",
        "No data loss occurs.\n",
        "for example:\n",
        "x = 10      # int\n",
        "y = 2.5     # float\n",
        "result = x + y\n",
        "print(result, type(result))  # Output: 12.5 <class 'float'>\n",
        "\"Integer is automatically converted to Float\"\n",
        "\n",
        "Explicit Type Casting (Manual)\n",
        "The programmer forces a conversion using built-in functions like int(), float(), str(), etc.\n",
        "Explicit conversion may cause data loss (e.g., 3.14 → 3 when converting float to int).\n",
        "for example 🇰num_str = \"100\"\n",
        "num_int = int(num_str)  # Manually converting string to integer\n",
        "print(num_int, type(num_int))  # Output: 100 <class 'int'>\n",
        "\n",
        "\n"
      ],
      "metadata": {
        "id": "8i7_Ka99MACJ"
      }
    },
    {
      "cell_type": "markdown",
      "source": [
        "What is the purpose of conditional statements in Python?\n",
        "\n",
        "Purpose of Conditional Statements in Python\n",
        "Conditional statements in Python allow the program to make decisions and execute different code blocks based on specific conditions. They help in implementing logic and control flow, making the program more dynamic and responsive.\n",
        "For example: if Statement"
      ],
      "metadata": {
        "id": "_XcVQRcoNEF2"
      }
    },
    {
      "cell_type": "markdown",
      "source": [
        " How does the elif statement work?\n",
        "\n",
        " The elif (short for \"else if\") statement is used when we need to check multiple conditions in a sequence. It allows the program to evaluate each condition one by one until it finds the first True condition, then executes the corresponding code block.\n",
        "\n",
        "example:\n",
        "marks = 85\n",
        "\n",
        "if marks >= 90:\n",
        "    print(\"Grade: A\")\n",
        "elif marks >= 75:\n",
        "    print(\"Grade: B\")  #\n",
        "elif marks >= 50:\n",
        "    print(\"Grade: C\")\n",
        "else:\n",
        "    print(\"Fail\")"
      ],
      "metadata": {
        "id": "X35KiUCXNc7L"
      }
    },
    {
      "cell_type": "markdown",
      "source": [
        "What is the difference between for and while loops?\n",
        "1 for Loop (Fixed Iterations)\n",
        "Used when you know how many times you need to iterate.\n",
        "Loops over iterables like lists, tuples, and strings.\n",
        "2.while Loop (Unknown Iterations)\n",
        "Used when you don’t know beforehand how many times the loop should run.\n",
        "The loop runs until a condition becomes False."
      ],
      "metadata": {
        "id": "afv2m7yHN5vD"
      }
    },
    {
      "cell_type": "markdown",
      "source": [
        "Describe a scenario where a while loop is more suitable than a for loop.\n",
        "Imagine an ATM system that asks the user to enter their PIN. The user gets three attempts to enter the correct PIN. If they enter the correct PIN, access is granted. If they fail three times, their account is locked.\n",
        "\n",
        "Since the number of attempts depends on user input (which we don’t know in advance), a while loop is the best choice."
      ],
      "metadata": {
        "id": "mcoXmKA_P0z9"
      }
    },
    {
      "cell_type": "code",
      "source": [
        "# Write a Python program to print \"Hello, World!\"\n",
        "print(\"Hello, World!\")"
      ],
      "metadata": {
        "colab": {
          "base_uri": "https://localhost:8080/"
        },
        "id": "ovV-qRn4QSzC",
        "outputId": "53c8d46c-6bc4-48fa-b7a0-d534338869ec"
      },
      "execution_count": 1,
      "outputs": [
        {
          "output_type": "stream",
          "name": "stdout",
          "text": [
            "Hello, World!\n"
          ]
        }
      ]
    },
    {
      "cell_type": "code",
      "source": [
        "#Write a Python program that displays your name and age\n",
        "name=\"Parnashree Gharai\"\n",
        "age=22\n",
        "print(\"my name is \"+ name + \" and my age is \"+ str(age))"
      ],
      "metadata": {
        "colab": {
          "base_uri": "https://localhost:8080/"
        },
        "id": "uYdF3wbtQkXx",
        "outputId": "c2362d62-d121-4da9-d312-a60e3c4db7d0"
      },
      "execution_count": 7,
      "outputs": [
        {
          "output_type": "stream",
          "name": "stdout",
          "text": [
            "my name is Parnashree Gharai and my age is 22\n"
          ]
        }
      ]
    },
    {
      "cell_type": "code",
      "source": [
        "#Write code to print all the pre-defined keywords in Python using the keyword library\n",
        "help(\"keywords\")"
      ],
      "metadata": {
        "colab": {
          "base_uri": "https://localhost:8080/"
        },
        "id": "wRWzYVstRWBq",
        "outputId": "3d3ed1dd-2b41-4dfd-a8c6-303b4b2bbf9b"
      },
      "execution_count": 8,
      "outputs": [
        {
          "output_type": "stream",
          "name": "stdout",
          "text": [
            "\n",
            "Here is a list of the Python keywords.  Enter any keyword to get more help.\n",
            "\n",
            "False               class               from                or\n",
            "None                continue            global              pass\n",
            "True                def                 if                  raise\n",
            "and                 del                 import              return\n",
            "as                  elif                in                  try\n",
            "assert              else                is                  while\n",
            "async               except              lambda              with\n",
            "await               finally             nonlocal            yield\n",
            "break               for                 not                 \n",
            "\n"
          ]
        }
      ]
    },
    {
      "cell_type": "code",
      "source": [
        "#Write a program that checks if a given word is a Python keyword\n",
        "\n",
        "python_keywords = {\n",
        "    \"False\", \"None\", \"True\", \"and\", \"as\", \"assert\", \"async\", \"await\",\n",
        "    \"break\", \"class\", \"continue\", \"def\", \"del\", \"elif\", \"else\", \"except\",\n",
        "    \"finally\", \"for\", \"from\", \"global\", \"if\", \"import\", \"in\", \"is\",\n",
        "    \"lambda\", \"nonlocal\", \"not\", \"or\", \"pass\", \"raise\", \"return\", \"try\",\n",
        "    \"while\", \"with\", \"yield\"\n",
        "}\n",
        "\n",
        "# Get user input\n",
        "word = input(\"Enter a word to check: \")\n",
        "\n",
        "# Check if it's a keyword\n",
        "if word in python_keywords:\n",
        "    print(f\"'{word}' is a Python keyword.\")\n",
        "else:\n",
        "    print(f\"'{word}' is NOT a Python keyword.\")"
      ],
      "metadata": {
        "colab": {
          "base_uri": "https://localhost:8080/"
        },
        "id": "77okAWALR7Hj",
        "outputId": "2f557504-1766-44ce-8795-309c563b639c"
      },
      "execution_count": 9,
      "outputs": [
        {
          "output_type": "stream",
          "name": "stdout",
          "text": [
            "Enter a word to check: parna\n",
            "'parna' is NOT a Python keyword.\n"
          ]
        }
      ]
    },
    {
      "cell_type": "code",
      "source": [
        "#Create a list and tuple in Python, and demonstrate how attempting to change an element works differently for each\n",
        "# Creating a list (mutable)\n",
        "my_list = [10, 20, 30]\n",
        "print(\"Original List:\", my_list)\n",
        "\n",
        "# Creating a tuple (immutable)\n",
        "my_tuple = (10, 20, 30)\n",
        "print(\"Original Tuple:\", my_tuple)\n",
        "\n",
        "#attempting to change an element in list\n",
        "my_list[1] = 99  # Changing the second element\n",
        "print(\"Modified List:\", my_list)\n",
        "\n",
        "#attempting to change an element in tuple\n",
        "# my_tuple[1] = 99  # This will raise a TypeError\n",
        "temp_list = list(my_tuple)  # Convert tuple to list\n",
        "temp_list[1] = 99  # Modify the list\n",
        "my_tuple = tuple(temp_list)  # Convert back to tuple\n",
        "print(\"Modified Tuple:\", my_tuple)"
      ],
      "metadata": {
        "colab": {
          "base_uri": "https://localhost:8080/"
        },
        "id": "pNdYfhd8TEFZ",
        "outputId": "0d8c0712-b472-4860-b869-90483e88c42e"
      },
      "execution_count": 11,
      "outputs": [
        {
          "output_type": "stream",
          "name": "stdout",
          "text": [
            "Original List: [10, 20, 30]\n",
            "Original Tuple: (10, 20, 30)\n",
            "Modified List: [10, 99, 30]\n",
            "Modified Tuple: (10, 99, 30)\n"
          ]
        }
      ]
    },
    {
      "cell_type": "code",
      "source": [
        "#Write a function to demonstrate the behavior of mutable and immutable arguments\n",
        "\n",
        "def modify(x, my_list):\n",
        "    x += 10  # Immutable: New integer is created\n",
        "    my_list.append(4)  # Mutable: List is modified\n",
        "\n",
        "# Immutable (integer) and Mutable (list)\n",
        "num = 5\n",
        "numbers = [1, 2, 3]\n",
        "\n",
        "print(\"Before function call:\")\n",
        "print(\"num:\", num)       # 5\n",
        "print(\"numbers:\", numbers)  # [1, 2, 3]\n",
        "\n",
        "modify(num, numbers)\n",
        "\n",
        "print(\"\\nAfter function call:\")\n",
        "print(\"num:\", num)       # 5 (No change)\n",
        "print(\"numbers:\", numbers)  # [1, 2, 3, 4] (Changed!)\n"
      ],
      "metadata": {
        "colab": {
          "base_uri": "https://localhost:8080/"
        },
        "id": "VBC0AqRVUyLN",
        "outputId": "34245ad2-919c-465f-f00a-ba73eda8c386"
      },
      "execution_count": 14,
      "outputs": [
        {
          "output_type": "stream",
          "name": "stdout",
          "text": [
            "Before function call:\n",
            "num: 5\n",
            "numbers: [1, 2, 3]\n",
            "\n",
            "After function call:\n",
            "num: 5\n",
            "numbers: [1, 2, 3, 4]\n"
          ]
        }
      ]
    },
    {
      "cell_type": "code",
      "source": [
        "#Write a function to demonstrate the behavior of mutable and immutable arguments\n",
        "#same question as above"
      ],
      "metadata": {
        "id": "wKd9rRR9XVdK"
      },
      "execution_count": null,
      "outputs": []
    },
    {
      "cell_type": "code",
      "source": [
        "# Write a program to demonstrate the use of logical operators\n",
        "a = 5\n",
        "b =-8\n",
        "# Logical AND\n",
        "print(\"\\nLogical AND:\")\n",
        "print(a > 0 and b > 0)  # True if both are positive\n",
        "\n",
        "# Logical OR\n",
        "print(\"\\nLogical OR:\")\n",
        "print(a > 0 or b > 0)  # True if at least one is positive\n",
        "\n",
        "# Logical NOT\n",
        "print(\"\\nLogical NOT:\")\n",
        "print(not (a > 0))  # True if 'a' is NOT positive\n"
      ],
      "metadata": {
        "colab": {
          "base_uri": "https://localhost:8080/"
        },
        "id": "8DZr4wwyXtAC",
        "outputId": "f48dc325-1bf5-414f-abd1-d3a4de0080be"
      },
      "execution_count": 15,
      "outputs": [
        {
          "output_type": "stream",
          "name": "stdout",
          "text": [
            "\n",
            "Logical AND:\n",
            "False\n",
            "\n",
            "Logical OR:\n",
            "True\n",
            "\n",
            "Logical NOT:\n",
            "False\n"
          ]
        }
      ]
    },
    {
      "cell_type": "code",
      "source": [
        "#Write a Python program to convert user input from string to integer, float, and boolean types0\n",
        "# Taking user input as a string\n",
        "user_input = input(\"Enter a value: \")\n",
        "\n",
        "# Convert to integer\n",
        "int_value = int(user_input)  # Will cause an error if input is not a valid integer\n",
        "print(\"Integer:\", int_value)\n",
        "\n",
        "# Convert to float\n",
        "float_value = float(user_input)  # Will cause an error if input is not a valid number\n",
        "print(\"Float:\", float_value)\n",
        "\n",
        "# Convert to boolean\n",
        "bool_value = bool(user_input)  # Empty string → False, Any other value → True\n",
        "print(\"Boolean:\", bool_value)\n"
      ],
      "metadata": {
        "colab": {
          "base_uri": "https://localhost:8080/"
        },
        "id": "eNFCgQtZYLGB",
        "outputId": "d3642a40-9cbc-40ce-cdba-d58f91032411"
      },
      "execution_count": 16,
      "outputs": [
        {
          "output_type": "stream",
          "name": "stdout",
          "text": [
            "Enter a value: 5\n",
            "Integer: 5\n",
            "Float: 5.0\n",
            "Boolean: True\n"
          ]
        }
      ]
    },
    {
      "cell_type": "code",
      "source": [
        "#Write code to demonstrate type casting with list elements\n",
        "# List of string values\n",
        "str_list = [\"10\", \"20.5\", \"0\", \"hello\", \"\"]\n",
        "\n",
        "# Convert to integer (only valid numbers)\n",
        "int_list = [int(x) for x in str_list if x.isdigit()]\n",
        "print(\"Integer List:\", int_list)\n",
        "\n",
        "# Convert to float\n",
        "float_list = [float(x) if x.replace('.', '', 1).isdigit() else x for x in str_list]\n",
        "print(\"Float List:\", float_list)\n",
        "\n",
        "# Convert to boolean (empty string → False, others → True)\n",
        "bool_list = [bool(x) for x in str_list]\n",
        "print(\"Boolean List:\", bool_list)\n"
      ],
      "metadata": {
        "colab": {
          "base_uri": "https://localhost:8080/"
        },
        "id": "2muBOMcmZ45-",
        "outputId": "3d3d9834-fcb3-416d-9909-d91b71759f09"
      },
      "execution_count": 17,
      "outputs": [
        {
          "output_type": "stream",
          "name": "stdout",
          "text": [
            "Integer List: [10, 0]\n",
            "Float List: [10.0, 20.5, 0.0, 'hello', '']\n",
            "Boolean List: [True, True, True, True, False]\n"
          ]
        }
      ]
    },
    {
      "cell_type": "code",
      "source": [
        "#Write a program that checks if a number is positive, negative, or zero\n",
        "# Take input from the user\n",
        "num = float(input(\"Enter a number: \"))\n",
        "\n",
        "# Check the number type\n",
        "if num > 0:\n",
        "    print(\"The number is Positive.\")\n",
        "elif num < 0:\n",
        "    print(\"The number is Negative.\")\n",
        "else:\n",
        "    print(\"The number is Zero.\")\n"
      ],
      "metadata": {
        "colab": {
          "base_uri": "https://localhost:8080/"
        },
        "id": "3ic35yJ2bPl4",
        "outputId": "5adc00d2-bf78-4fec-bcd8-ed6ffa078a00"
      },
      "execution_count": 18,
      "outputs": [
        {
          "output_type": "stream",
          "name": "stdout",
          "text": [
            "Enter a number: 4\n",
            "The number is Positive.\n"
          ]
        }
      ]
    },
    {
      "cell_type": "code",
      "source": [
        "# Write a for loop to print numbers from 1 to 10\n",
        "for i in range (1,11):\n",
        "  print(i)"
      ],
      "metadata": {
        "colab": {
          "base_uri": "https://localhost:8080/"
        },
        "id": "e3q95TJxbhfr",
        "outputId": "bbe6fadf-969e-4584-8871-a1f8c5adb9f4"
      },
      "execution_count": 19,
      "outputs": [
        {
          "output_type": "stream",
          "name": "stdout",
          "text": [
            "1\n",
            "2\n",
            "3\n",
            "4\n",
            "5\n",
            "6\n",
            "7\n",
            "8\n",
            "9\n",
            "10\n"
          ]
        }
      ]
    },
    {
      "cell_type": "code",
      "source": [
        "#Write a Python program to find the sum of all even numbers between 1 and 50\n",
        "\n",
        "sum_even= sum(range(2,51,2))\n",
        "print(sum_even)"
      ],
      "metadata": {
        "colab": {
          "base_uri": "https://localhost:8080/"
        },
        "id": "D_mBWqxPbtJf",
        "outputId": "73c038a2-0922-4ad6-9f6b-669289a641c3"
      },
      "execution_count": 22,
      "outputs": [
        {
          "output_type": "stream",
          "name": "stdout",
          "text": [
            "650\n"
          ]
        }
      ]
    },
    {
      "cell_type": "code",
      "source": [
        "#Write a program to reverse a string using a while loop\n",
        "text=\"parna\"\n",
        "i=len(text)-1\n",
        "reversed_text =\"\"\n",
        "\n",
        "while i>=0:\n",
        "  reversed_text+=text[i]\n",
        "  i-=1\n",
        "print(reversed_text)"
      ],
      "metadata": {
        "colab": {
          "base_uri": "https://localhost:8080/"
        },
        "id": "CdxQVXIxc30k",
        "outputId": "e76baec8-e328-43dc-c21f-dded11e38e8a"
      },
      "execution_count": 24,
      "outputs": [
        {
          "output_type": "stream",
          "name": "stdout",
          "text": [
            "anrap\n"
          ]
        }
      ]
    },
    {
      "cell_type": "code",
      "source": [
        "#Write a Python program to calculate the factorial of a number provided by the user using a while loop\n",
        "num=int(input(\"enter a number: \"))\n",
        "factorial=1\n",
        "while num>0:\n",
        "  factorial=factorial*num\n",
        "  num-=1\n",
        "print ( \"the factorial of your given number is : \", factorial)\n",
        "\n"
      ],
      "metadata": {
        "colab": {
          "base_uri": "https://localhost:8080/"
        },
        "id": "AuGOiLZweTma",
        "outputId": "47550d42-5513-44ff-a77b-d9797e9353f2"
      },
      "execution_count": 34,
      "outputs": [
        {
          "output_type": "stream",
          "name": "stdout",
          "text": [
            "enter a number: 0\n",
            "the factorial of your given number is :  1\n"
          ]
        }
      ]
    }
  ]
}