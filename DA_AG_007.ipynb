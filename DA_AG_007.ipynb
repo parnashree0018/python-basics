{
  "nbformat": 4,
  "nbformat_minor": 0,
  "metadata": {
    "colab": {
      "provenance": []
    },
    "kernelspec": {
      "name": "python3",
      "display_name": "Python 3"
    },
    "language_info": {
      "name": "python"
    }
  },
  "cells": [
    {
      "cell_type": "code",
      "execution_count": null,
      "metadata": {
        "id": "m0uACySJHgaZ"
      },
      "outputs": [],
      "source": []
    },
    {
      "cell_type": "markdown",
      "source": [
        "#Question 1: What is hypothesis testing in statistics\n",
        "*Hypothesis Testing in Statistics*\n",
        "\n",
        "Hypothesis testing is a statistical method used to make inferences or decisions about a population based on sample data. It helps determine whether a claim (hypothesis) about a population parameter is likely to be true or false.\n",
        "\n",
        "\n",
        "\n",
        "Null Hypothesis (H₀):\n",
        "\n",
        "A statement of no effect or no difference.\n",
        "Example: “The mean exam score of students is 70.”\n",
        "\n",
        "Alternative Hypothesis (H₁ or Ha):\n",
        "\n",
        "A statement that contradicts the null hypothesis.\n",
        "Example: “The mean exam score of students is not 70.”\n",
        "\n",
        "Test Statistic:\n",
        "\n",
        "A numerical measure calculated from sample data, used to decide whether to reject H₀.\n",
        "Example: z-score, t-score, chi-square statistic.\n",
        "\n",
        "P-value:\n",
        "\n",
        "Probability of observing the test results (or more extreme) if the null hypothesis is true.\n",
        "\n",
        "Small p-value (typically < 0.05) → strong evidence against H₀.\n",
        "\n",
        "Significance Level (α)\n",
        "\n",
        "Predefined threshold for rejecting H₀ (commonly 0.05 or 5%).\n",
        "\n",
        "Decision Rule:\n",
        "\n",
        "If p-value ≤ α: Reject H₀ > accept H₁.\n",
        "\n",
        "If p-value > α: Fail to reject H₀ > not enough evidence for H₁.\n",
        "\n",
        "Steps in Hypothesis Testing:\n",
        "\n",
        "1.State the hypotheses (H₀ and H₁).\n",
        "\n",
        "2.Choose a significance level (α, e.g., 0.05).\n",
        "\n",
        "3.Select the appropriate test (z-test, t-test, chi-square, ANOVA, etc.).\n",
        "\n",
        "4.Calculate the test statistic and p-value.\n",
        "\n",
        "5.Make a decision to reject or fail to reject H₀.\n",
        "\n",
        "6.Interpret the results in context.\n",
        "\n",
        "\n",
        "Example: Suppose you want to test if a new teaching method improves student scores.\n",
        "\n",
        "H₀: The new method has no effect (mean score = 70).\n",
        "\n",
        "H₁: The new method improves scores (mean score > 70).\n",
        "\n",
        "After collecting sample data and performing a t-test, you get a p-value = 0.03.\n",
        "\n",
        "Since 0.03 < 0.05 → reject H₀ → conclude the method likely improves scores.\n",
        "\n",
        "#Question 2: What is the null hypothesis, and how does it differ from the alternative hypothesis?\n",
        "Null Hypothesis (H₀):\n",
        "\n",
        "The null hypothesis is a statement of no effect, no difference, or status quo in a population.It assumes that any observed difference in the sample data is due to random chance.\n",
        "\n",
        "Purpose: It serves as the default assumption that we try to test against.\n",
        "\n",
        "Example: “The average height of men in City A is 170 cm.”\n",
        "\n",
        "This is what we assume to be true unless there’s strong evidence otherwise.\n",
        "\n",
        "Alternative Hypothesis (H₁ or Ha):\n",
        "\n",
        "The alternative hypothesis is a statement that contradicts the null hypothesis.\n",
        "It suggests there is an effect, a difference, or a change.\n",
        "\n",
        "Purpose: It represents what we are trying to find evidence for in the data.\n",
        "\n",
        "Example: “The average height of men in City A is not 170 cm.”\n",
        "\n",
        "Or, if testing improvement: “The new teaching method increases exam scores.”\n",
        "\n",
        "#Question 3: Explain the significance level in hypothesis testing and its role in deciding the outcome of a test.\n",
        "\n",
        "Significance Level (α) in Hypothesis Testing\n",
        "\n",
        "The significance level, denoted by α (alpha), is the threshold probability used to decide whether to reject the null hypothesis (H₀).\n",
        "It represents the risk of making a Type I error, which is rejecting H₀ when it is actually true.\n",
        "Common significance levels: 0.05 (5%), 0.01 (1%), or 0.10 (10%).\n",
        "\n",
        "Role in Deciding the Outcome:\n",
        "\n",
        "1.Calculate the p-value from the sample data.\n",
        "\n",
        "    The p-value is the probability of observing the data (or something more extreme) if H₀ is true.\n",
        "\n",
        "2.Compare p-value with α:\n",
        "\n",
        "    \n",
        "    p-value ≤ α\tReject H₀ → evidence supports H₁\n",
        "    p-value > α\tFail to reject H₀ → not enough evidence for H₁\n",
        "Example:\n",
        "\n",
        "Suppose you are testing a new drug:\n",
        "\n",
        "H₀: The drug has no effect on blood pressure.\n",
        "\n",
        "H₁: The drug reduces blood pressure.\n",
        "\n",
        "Significance level: α = 0.05\n",
        "\n",
        "After testing, you get p-value = 0.03.\n",
        "\n",
        "Since 0.03 < 0.05, you reject H₀ → conclude the drug likely reduces blood pressure.\n",
        "\n",
        "If the p-value were 0.08, then 0.08 > 0.05 → fail to reject H₀ → not enough evidence to claim the drug works.\n",
        "\n",
        "Summary:\n",
        "\n",
        "Significance level α defines how strong the evidence must be to reject H₀.\n",
        "\n",
        "It controls the probability of making a Type I error.\n",
        "\n",
        "The smaller the α, the stricter the test (less likely to falsely reject H₀).\n",
        "\n",
        "#Question 4: What are Type I and Type II errors? Give examples of each.\n",
        "Type I Error (False Positive):\n",
        "\n",
        "Definition: Rejecting the null hypothesis (H₀) when it is actually true.\n",
        "\n",
        "Analogy: Thinking something happened when it really didn’t.\n",
        "\n",
        "Probability: Denoted by α, which is the significance level.\n",
        "\n",
        "Example:\n",
        "\n",
        "Scenario: Testing a new drug.\n",
        "\n",
        "H₀: The drug has no effect on blood pressure.\n",
        "\n",
        "H₁: The drug lowers blood pressure.\n",
        "\n",
        "Type I Error: Concluding that the drug works when it actually doesn’t.\n",
        "\n",
        "Type II Error (False Negative)\n",
        "\n",
        "Definition: Failing to reject the null hypothesis (H₀) when it is actually false.\n",
        "\n",
        "Analogy: Not detecting something that is actually happening.\n",
        "\n",
        "Probability: Denoted by β.\n",
        "\n",
        "Example:\n",
        "\n",
        "Scenario: Testing the same drug.\n",
        "\n",
        "H₀: The drug has no effect on blood pressure.\n",
        "\n",
        "H₁: The drug lowers blood pressure.\n",
        "\n",
        "Type II Error: Concluding that the drug doesn’t work, when it actually does.\n",
        "\n",
        "#Question 5: What is the difference between a Z-test and a T-test? Explain when to use each.\n",
        "Z-Test\n",
        "\n",
        "Definition: A statistical test used to determine if there is a significant difference between a sample mean and a population mean (or between two sample means) when the population standard deviation is known.\n",
        "\n",
        "Distribution Used: Standard normal (Z) distribution.\n",
        "\n",
        "Sample Size: Usually large (n > 30).\n",
        "\n",
        "Use Case: When population variance is known or the sample size is large.\n",
        "\n",
        "Example:\n",
        "\n",
        "You know that the average height of adult men in a city is 170 cm (σ = 10 cm).\n",
        "\n",
        "You take a sample of 50 men and want to see if their average height differs from 170 cm.\n",
        "\n",
        "T-Test\n",
        "\n",
        "Definition: A statistical test used to compare sample means when the population standard deviation is unknown and/or the sample size is small.\n",
        "\n",
        "Distribution Used: Student’s t-distribution, which adjusts for smaller sample sizes.\n",
        "\n",
        "Sample Size: Usually small (n < 30), but can also be used for larger samples if σ is unknown.\n",
        "\n",
        "Use Case: When population variance is unknown.\n",
        "\n",
        "Example:\n",
        "\n",
        "You measure the exam scores of 20 students and want to test if their average differs from the known passing score, but you don’t know the population standard deviation.\n"
      ],
      "metadata": {
        "id": "os3EV4wsIFPI"
      }
    },
    {
      "cell_type": "code",
      "source": [
        "#Question 6: Write a Python program to generate a binomial distribution with n=10 and p=0.5, then plot its histogram.\n",
        "\n",
        "import numpy as np\n",
        "import matplotlib.pyplot as plt\n",
        "\n",
        "\n",
        "n = 10      # number of trials\n",
        "p = 0.5     # probability of success\n",
        "size = 1000  # number of samples\n",
        "\n",
        "\n",
        "data = np.random.binomial(n, p, size)\n",
        "\n",
        "\n",
        "plt.figure(figsize=(8,5))\n",
        "plt.hist(data, bins=range(n+2), edgecolor='black', alpha=0.7, align='left')\n",
        "plt.title('Binomial Distribution (n=10, p=0.5)')\n",
        "plt.xlabel('Number of Successes')\n",
        "plt.ylabel('Frequency')\n",
        "plt.xticks(range(n+1))\n",
        "plt.show()\n"
      ],
      "metadata": {
        "colab": {
          "base_uri": "https://localhost:8080/",
          "height": 487
        },
        "id": "aw6_6p5lLA_o",
        "outputId": "6b2263ae-7f08-454e-baff-944df21e7ef2"
      },
      "execution_count": 1,
      "outputs": [
        {
          "output_type": "display_data",
          "data": {
            "text/plain": [
              "<Figure size 800x500 with 1 Axes>"
            ],
            "image/png": "[encoded data removed]"
          },
          "metadata": {}
        }
      ]
    },
    {
      "cell_type": "code",
      "source": [
        "#Question 7: Implement hypothesis testing using Z-statistics for a sample dataset in Python. Show the Python code and interpret the results.\n",
        "sample_data = [49.1, 50.2, 51.0, 48.7, 50.5, 49.8, 50.3, 50.7, 50.2, 49.6,\n",
        "                        50.1, 49.9, 50.8, 50.4, 48.9, 50.6, 50.0, 49.7, 50.2, 49.5,\n",
        "                        50.1, 50.3, 50.4, 50.5, 50.0, 50.7, 49.3, 49.8, 50.2, 50.9,\n",
        "                        50.3, 50.4, 50.0, 49.7, 50.5, 49.9]\n",
        "from scipy import stats\n",
        "mu = 50\n",
        "n = len(sample_data)\n",
        "sample_mean = np.mean(sample_data)\n",
        "sample_std = np.std(sample_data, ddof=1)\n",
        "\n",
        "\n",
        "z_stat = (sample_mean - mu) / (sample_std / np.sqrt(n))\n",
        "\n",
        "\n",
        "p_value = 2 * (1 - stats.norm.cdf(abs(z_stat)))\n",
        "\n",
        "\n",
        "print(f\"Sample Mean: {sample_mean:.3f}\")\n",
        "print(f\"Sample Std Dev: {sample_std:.3f}\")\n",
        "print(f\"Z-Statistic: {z_stat:.3f}\")\n",
        "print(f\"P-Value: {p_value:.3f}\")\n",
        "\n",
        "\n",
        "alpha = 0.05\n",
        "if p_value < alpha:\n",
        "    print(\"Reject the null hypothesis (H₀).\")\n",
        "else:\n",
        "    print(\"Fail to reject the null hypothesis (H₀).\")"
      ],
      "metadata": {
        "colab": {
          "base_uri": "https://localhost:8080/"
        },
        "id": "t_DiRhuYLQqk",
        "outputId": "57da7c3d-8896-4de8-f23f-4db829c356ef"
      },
      "execution_count": 2,
      "outputs": [
        {
          "output_type": "stream",
          "name": "stdout",
          "text": [
            "Sample Mean: 50.089\n",
            "Sample Std Dev: 0.537\n",
            "Z-Statistic: 0.994\n",
            "P-Value: 0.320\n",
            "Fail to reject the null hypothesis (H₀).\n"
          ]
        }
      ]
    },
    {
      "cell_type": "code",
      "source": [
        "#Question 8: Write a Python script to simulate data from a normal distribution and calculate the 95% confidence interval for its mean. Plot the data using Matplotlib.\n",
        "import numpy as np\n",
        "import matplotlib.pyplot as plt\n",
        "from scipy import stats\n",
        "\n",
        "\n",
        "np.random.seed(42)\n",
        "mu = 50\n",
        "sigma = 5\n",
        "n = 100\n",
        "\n",
        "data = np.random.normal(mu, sigma, n)\n",
        "\n",
        "\n",
        "sample_mean = np.mean(data)\n",
        "sample_std = np.std(data, ddof=1)\n",
        "se = sample_std / np.sqrt(n)\n",
        "\n",
        "\n",
        "confidence_level = 0.95\n",
        "z_score = stats.norm.ppf(0.975)\n",
        "ci_lower = sample_mean - z_score * se\n",
        "ci_upper = sample_mean + z_score * se\n",
        "\n",
        "print(f\"Sample Mean: {sample_mean:.2f}\")\n",
        "print(f\"95% Confidence Interval: ({ci_lower:.2f}, {ci_upper:.2f})\")\n",
        "\n",
        "\n",
        "plt.figure(figsize=(10,6))\n",
        "plt.hist(data, bins=15, edgecolor='black', alpha=0.7)\n",
        "plt.axvline(sample_mean, color='red', linestyle='--', label='Sample Mean')\n",
        "plt.axvline(ci_lower, color='green', linestyle='--', label='95% CI Lower')\n",
        "plt.axvline(ci_upper, color='green', linestyle='--', label='95% CI Upper')\n",
        "plt.title('Histogram of Simulated Normal Data with 95% CI')\n",
        "plt.xlabel('Value')\n",
        "plt.ylabel('Frequency')\n",
        "plt.legend()\n",
        "plt.show()\n"
      ],
      "metadata": {
        "colab": {
          "base_uri": "https://localhost:8080/",
          "height": 599
        },
        "id": "MToEi62BLxk_",
        "outputId": "2f49e9a8-68a0-412f-f5e4-563627045f66"
      },
      "execution_count": 3,
      "outputs": [
        {
          "output_type": "stream",
          "name": "stdout",
          "text": [
            "Sample Mean: 49.48\n",
            "95% Confidence Interval: (48.59, 50.37)\n"
          ]
        },
        {
          "output_type": "display_data",
          "data": {
            "text/plain": [
              "<Figure size 1000x600 with 1 Axes>"
            ],
            "image/png": "[encoded data removed]"
          },
          "metadata": {}
        }
      ]
    },
    {
      "cell_type": "code",
      "source": [
        "#Question 9: Write a Python function to calculate the Z-scores from a dataset and visualize the standardized data using a histogram. Explain what the Z-scores represent in terms of standard deviations from the mean.\n",
        "import numpy as np\n",
        "import matplotlib.pyplot as plt\n",
        "\n",
        "def calculate_z_scores(data):\n",
        "\n",
        "    mean = np.mean(data)\n",
        "    std = np.std(data, ddof=1)  # sample standard deviation\n",
        "    z_scores = (data - mean) / std\n",
        "    return z_scores\n",
        "\n",
        "# Example dataset\n",
        "data = [49.1, 50.2, 51.0, 48.7, 50.5, 49.8, 50.3, 50.7, 50.2, 49.6]\n",
        "\n",
        "# Calculate Z-scores\n",
        "z_scores = calculate_z_scores(np.array(data))\n",
        "print(\"Z-scores:\", z_scores)\n"
      ],
      "metadata": {
        "colab": {
          "base_uri": "https://localhost:8080/"
        },
        "id": "GidI_qC_MPHx",
        "outputId": "a551a6fd-2824-45b4-bfc3-db3d1e025514"
      },
      "execution_count": 4,
      "outputs": [
        {
          "output_type": "stream",
          "name": "stdout",
          "text": [
            "Z-scores: [-1.27162569  0.26550426  1.38341696 -1.83058204  0.68472153 -0.29345208\n",
            "  0.40524335  0.9641997   0.26550426 -0.57293026]\n"
          ]
        }
      ]
    },
    {
      "cell_type": "code",
      "source": [],
      "metadata": {
        "id": "oFx-UQobMehB"
      },
      "execution_count": null,
      "outputs": []
    }
  ]
}